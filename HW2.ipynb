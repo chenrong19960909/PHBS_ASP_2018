{
 "cells": [
  {
   "cell_type": "markdown",
   "metadata": {},
   "source": [
    "# HW 2: Corporate Bond Pricing (due by 9.21 Fri)"
   ]
  },
  {
   "cell_type": "markdown",
   "metadata": {},
   "source": [
    "We are going to compute the price of a corporate bond (subject to default) with Monte-Carlo simulation. Assume that \n",
    "* the default time of a company follows the exponential distribution with intensity $\\lambda=$__`def_rate`__. \n",
    "* the riskfree interest rate is $r_f=$__`rf_rate`__ and the maturity of the bond is $T=$__`mat`__. \n",
    "* in the case of default, you can recover some portion ($R=$__`recovery_rate`__) of the face value.\n",
    "* the coupon is 0%, i.e., it is a zero-coupon bond.\n",
    "* the face value of the bond is 1.0\n",
    "* use compound rate for discounting; the price of the default-free bond is $e^{-r_f T}$\n",
    "\n",
    "The Problem 1 of the [2017 ASP Midterm Exam](../files/ASP2017_Midterm.pdf) will be helpful.\n",
    "\n",
    "### Instruction to upload your HW\n",
    "* Create a repository named __`PHBS_ASP_2018`__ (and clone it to your PC)\n",
    "* Copy this file to __`PHBS_ASP_2018/HW2/HW2.ipynb`__  (Please use the same name for repository and ipynb file)\n",
    "* Adding more code.\n",
    "* Run your your code to make sure that there's no error.\n",
    "* Upload (commit and sync) your file."
   ]
  },
  {
   "cell_type": "markdown",
   "metadata": {},
   "source": [
    "### 1. First, let's create a pricing function and check the std "
   ]
  },
  {
   "cell_type": "code",
   "execution_count": 59,
   "metadata": {},
   "outputs": [],
   "source": [
    "import numpy as np"
   ]
  },
  {
   "cell_type": "code",
   "execution_count": 6,
   "metadata": {},
   "outputs": [],
   "source": [
    "def_rate = 0.1\n",
    "rf_rate = 0.03\n",
    "recovery = 0.3\n",
    "mat = 10"
   ]
  },
  {
   "cell_type": "markdown",
   "metadata": {},
   "source": []
  },
  {
   "cell_type": "code",
   "execution_count": 35,
   "metadata": {},
   "outputs": [
    {
     "data": {
      "text/plain": [
       "(10.097610156870855, 10.0)"
      ]
     },
     "execution_count": 35,
     "metadata": {},
     "output_type": "execute_result"
    }
   ],
   "source": [
    "# First generate exponential random numbers\n",
    "# Although you can generate directly using fault_time = np.random.exponential(scale=), let's use uniform random numbers.\n",
    "n_sample = 10000\n",
    "U = np.random.uniform(size=n_sample)\n",
    "default_time = -(1/def_rate)*np.log(U)\n",
    "\n",
    "# You can check if the RNs are correct by comparing the means\n",
    "(default_time.mean(), 1/def_rate)"
   ]
  },
  {
   "cell_type": "code",
   "execution_count": 61,
   "metadata": {},
   "outputs": [
    {
     "name": "stdout",
     "output_type": "stream",
     "text": [
      "0.4414044377317106\n",
      "0.4422779494767182 0.002468032904703663\n"
     ]
    }
   ],
   "source": [
    "# Put your code here to price the corporate bond\n",
    "\n",
    "def corp_bond(mat=10.0, def_rate=0.1, rf_rate=0.03, recovery=0.3, n_sample=10000):\n",
    "    \n",
    "    # generate exponential dist. RV defaul time everytime you calculate the price\n",
    "    U = np.random.uniform(size=n_sample)\n",
    "    default_time = -(1/def_rate)*np.log(U)\n",
    "    \n",
    "    # use \"price\" to remember the result you get in each MC calculation\n",
    "    price=np.zeros(n_sample)\n",
    "    \n",
    "    # calculate the prices of the bond in 10000 random cases and use the mean as the final price\n",
    "    for t in range (0,n_sample):\n",
    "        if default_time[t]<= mat:    #default case\n",
    "            price[t]=recovery/((1+rf_rate)**default_time[t])\n",
    "        else:                        #undefault case\n",
    "            price[t]=1/(1+rf_rate)**mat\n",
    "            \n",
    "    ### <--\n",
    "    ### <--\n",
    "    return np.mean(price)\n",
    "\n",
    "# Call your function\n",
    "print(corp_bond())\n",
    "\n",
    "# Find the mean and std by calling the function 100 times.\n",
    "bondprice=np.zeros(100)\n",
    "for i in range(0,100):\n",
    "    bondprice[i]=corp_bond()\n",
    "\n",
    "print(np.mean(bondprice),np.std(bondprice))"
   ]
  },
  {
   "cell_type": "markdown",
   "metadata": {},
   "source": [
    "### 2. Now, let's improve the function by reducing the MC variations.\n",
    "1. Use antithetic method: If `U` is uniform random variable, so is `1-U`\n",
    "2. Also shift the RNs to match the mean, `1/def_rate`"
   ]
  },
  {
   "cell_type": "code",
   "execution_count": 11,
   "metadata": {},
   "outputs": [
    {
     "data": {
      "text/plain": [
       "(9.999999999999998, 10.0)"
      ]
     },
     "execution_count": 11,
     "metadata": {},
     "output_type": "execute_result"
    }
   ],
   "source": [
    "# For example, antithetic method means\n",
    "n_sample = 10000\n",
    "U = np.random.uniform(size=n_sample)\n",
    "default_time = -(1/def_rate)*np.log(np.concatenate((U,1-U),axis=0))\n",
    "\n",
    "# Mean-matching means\n",
    "default_time += 1/def_rate-default_time.mean()\n",
    "(default_time.mean(), 1/def_rate)"
   ]
  },
  {
   "cell_type": "code",
   "execution_count": 66,
   "metadata": {},
   "outputs": [
    {
     "name": "stdout",
     "output_type": "stream",
     "text": [
      "0.4418172140932333 0.0013462801770269335\n",
      "0.44207094838071403 0.0015512834309549409\n",
      "0.4420006311200233 0.0011563719919209074\n"
     ]
    }
   ],
   "source": [
    "# No include the two new features: `antithetic` and `mean_match`\n",
    "\n",
    "def corp_bond_cv(mat=10, def_rate=0.1, rf_rate=0.03, recovery=0.3, n_sample=10000, antithetic=True, mean_match=True):\n",
    "    ### get the sample using different methods\n",
    "    if(antithetic):        # with antithetic method\n",
    "        U = np.random.uniform(size=n_sample)\n",
    "        default_time = -(1/def_rate)*np.log(np.concatenate((U,1-U),axis=0))\n",
    "        if(mean_match):   #add mean_match method\n",
    "            default_time += 1/def_rate-default_time.mean()\n",
    "            \n",
    "    else:                 #without antithetic method\n",
    "        U = np.random.uniform(size=n_sample)\n",
    "        default_time = -(1/def_rate)*np.log(U)\n",
    "        if(mean_match):   #add mean_match method\n",
    "            default_time += 1/def_rate-default_time.mean()\n",
    "            \n",
    "    # get the number of the new sample\n",
    "    n_new_sample=len(default_time)\n",
    "    \n",
    "    # use \"price\" to remember the result you get in each MC calculation\n",
    "    price=np.zeros(n_new_sample)\n",
    "    \n",
    "    # calculate the prices of the bond in 10000 random cases and use the mean as the final price\n",
    "    for t in range (0,n_new_sample):\n",
    "        if default_time[t]<= mat:    #default case\n",
    "            price[t]=recovery/((1+rf_rate)**default_time[t])\n",
    "        else:                        #undefault case\n",
    "            price[t]=1/(1+rf_rate)**mat                                   \n",
    "    ### <--\n",
    "    return np.mean(price)\n",
    "\n",
    "# Find the mean and std by calling the function 100 times for (i) antithetic (ii) mean_match and (iii) both\n",
    "bondprice1=np.zeros(100)\n",
    "bondprice2=np.zeros(100)\n",
    "bondprice3=np.zeros(100)\n",
    "for i in range(0,100):\n",
    "    bondprice1[i]=corp_bond_cv(mean_match=False)   # case(i)\n",
    "    bondprice2[i]=corp_bond_cv(antithetic=False)   # case(ii)\n",
    "    bondprice3[i]=corp_bond_cv()                   # case(iii)\n",
    "\n",
    "print(np.mean(bondprice1),np.std(bondprice1))\n",
    "print(np.mean(bondprice2),np.std(bondprice2))\n",
    "print(np.mean(bondprice3),np.std(bondprice3))"
   ]
  },
  {
   "cell_type": "markdown",
   "metadata": {
    "collapsed": true
   },
   "source": [
    "### 3. Finally, what is the analytic value of the corporate bond? How does it compare to your MC result above?"
   ]
  },
  {
   "cell_type": "code",
   "execution_count": 65,
   "metadata": {},
   "outputs": [
    {
     "data": {
      "text/plain": [
       "0.4419067811863257"
      ]
     },
     "execution_count": 65,
     "metadata": {},
     "output_type": "execute_result"
    }
   ],
   "source": [
    "### Put the analytic expression for the corporate bond price\n",
    "def corp_bond_accu(mat=10, def_rate=0.1, rf_rate=0.03, recovery=0.3):\n",
    "    ### <--\n",
    "    alpha=1/(np.exp(def_rate))/(1+rf_rate)\n",
    "    \n",
    "    price=def_rate*recovery*(alpha**mat-1)/(np.log(alpha))+alpha**mat\n",
    "    ### <--\n",
    "    ### <--\n",
    "    return price\n",
    "\n",
    "corp_bond_accu()"
   ]
  },
  {
   "cell_type": "code",
   "execution_count": null,
   "metadata": {},
   "outputs": [],
   "source": []
  },
  {
   "cell_type": "code",
   "execution_count": null,
   "metadata": {
    "collapsed": true
   },
   "outputs": [],
   "source": []
  }
 ],
 "metadata": {
  "anaconda-cloud": {},
  "kernelspec": {
   "display_name": "Python 3",
   "language": "python",
   "name": "python3"
  },
  "language_info": {
   "codemirror_mode": {
    "name": "ipython",
    "version": 3
   },
   "file_extension": ".py",
   "mimetype": "text/x-python",
   "name": "python",
   "nbconvert_exporter": "python",
   "pygments_lexer": "ipython3",
   "version": "3.6.5"
  }
 },
 "nbformat": 4,
 "nbformat_minor": 1
}
